{
 "cells": [
  {
   "cell_type": "markdown",
   "metadata": {},
   "source": [
    "# Exploratory Data Analyis"
   ]
  },
  {
   "cell_type": "code",
   "execution_count": 1,
   "metadata": {},
   "outputs": [],
   "source": [
    "import os\n",
    "import numpy as np\n",
    "import pandas as pd\n",
    "import matplotlib.pyplot as plt\n",
    "import seaborn as sns"
   ]
  },
  {
   "cell_type": "code",
   "execution_count": 2,
   "metadata": {},
   "outputs": [
    {
     "name": "stdout",
     "output_type": "stream",
     "text": [
      "Found 3475 datafiles\n",
      "Loaded 0/1000 files\n",
      "Loaded 100/1000 files\n",
      "Loaded 200/1000 files\n",
      "Loaded 300/1000 files\n",
      "Loaded 400/1000 files\n",
      "Loaded 500/1000 files\n",
      "Loaded 600/1000 files\n",
      "Loaded 700/1000 files\n",
      "Loaded 800/1000 files\n",
      "Loaded 900/1000 files\n",
      "Dataframe loaded!\n",
      "Formatting dataframe\n",
      "Dataframe formatted\n"
     ]
    }
   ],
   "source": [
    "# CONFIG\n",
    "\n",
    "# project root\n",
    "PR = \"../\"\n",
    "# datafile containing all the function and types\n",
    "FUNCTION_FILE = os.path.join(PR, \"output/data/2ndWatchcloudendure-python-functions.csv\")\n",
    "\n",
    "def list_data_files(datadir, full=True):\n",
    "    paths = []\n",
    "    for file in os.listdir(datadir):\n",
    "        if not os.path.isfile(os.path.join(datadir, file)):\n",
    "            continue\n",
    "        \n",
    "        paths.append(os.path.join(datadir, file) if full else file)\n",
    "    \n",
    "    return paths\n",
    "\n",
    "def parse_df(files):\n",
    "    df = None\n",
    "    \n",
    "    for i, file in enumerate(files):\n",
    "        if i % 100 == 0:\n",
    "            print(f\"Loaded {i}/{len(files)} files\")\n",
    "        \n",
    "        if df is None:\n",
    "            df = pd.read_csv(file)\n",
    "        else:\n",
    "            df = pd.concat([df, pd.read_csv(file)])\n",
    "    \n",
    "    return df\n",
    "\n",
    "def format_df(df):\n",
    "    \"\"\"Add \"\"\"\n",
    "    df['arg_names'] = df['arg_names'].apply(lambda x: tuple(eval(x)))\n",
    "    df['arg_types'] = df['arg_types'].apply(lambda x: np.asarray(eval(x)))\n",
    "    \n",
    "    return df\n",
    "\n",
    "DATA_FILES = list_data_files(os.path.join(PR, \"output/data\"))\n",
    "print(\"Found %d datafiles\" % len(DATA_FILES))\n",
    "\n",
    "df = parse_df(DATA_FILES[:1000])\n",
    "print(\"Dataframe loaded!\")\n",
    "\n",
    "print(\"Formatting dataframe\")\n",
    "df = format_df(df)\n",
    "print(\"Dataframe formatted\")"
   ]
  },
  {
   "cell_type": "code",
   "execution_count": 17,
   "metadata": {},
   "outputs": [],
   "source": [
    "df.to_csv(\"_temp.csv\")"
   ]
  },
  {
   "cell_type": "code",
   "execution_count": 19,
   "metadata": {},
   "outputs": [
    {
     "data": {
      "text/html": [
       "<div>\n",
       "<style scoped>\n",
       "    .dataframe tbody tr th:only-of-type {\n",
       "        vertical-align: middle;\n",
       "    }\n",
       "\n",
       "    .dataframe tbody tr th {\n",
       "        vertical-align: top;\n",
       "    }\n",
       "\n",
       "    .dataframe thead th {\n",
       "        text-align: right;\n",
       "    }\n",
       "</style>\n",
       "<table border=\"1\" class=\"dataframe\">\n",
       "  <thead>\n",
       "    <tr style=\"text-align: right;\">\n",
       "      <th></th>\n",
       "      <th>Unnamed: 0</th>\n",
       "      <th>author</th>\n",
       "      <th>repo</th>\n",
       "      <th>file</th>\n",
       "      <th>has_type</th>\n",
       "      <th>name</th>\n",
       "      <th>docstring</th>\n",
       "      <th>func_descr</th>\n",
       "      <th>arg_names</th>\n",
       "      <th>arg_types</th>\n",
       "      <th>arg_descrs</th>\n",
       "      <th>return_type</th>\n",
       "      <th>return_expr</th>\n",
       "      <th>return_descr</th>\n",
       "      <th>arg_names_len</th>\n",
       "      <th>arg_types_len</th>\n",
       "      <th>docstring_length</th>\n",
       "    </tr>\n",
       "  </thead>\n",
       "  <tbody>\n",
       "    <tr>\n",
       "      <td>0</td>\n",
       "      <td>0</td>\n",
       "      <td>ocf</td>\n",
       "      <td>ocfweb</td>\n",
       "      <td>./projects/ocf__ocfweb/ocfweb/auth.py</td>\n",
       "      <td>False</td>\n",
       "      <td>decorator</td>\n",
       "      <td>NaN</td>\n",
       "      <td>NaN</td>\n",
       "      <td>(request, args)</td>\n",
       "      <td>[, ]</td>\n",
       "      <td>['', '']</td>\n",
       "      <td>NaN</td>\n",
       "      <td>['function request args kwargs', 'http respons...</td>\n",
       "      <td>NaN</td>\n",
       "      <td>2</td>\n",
       "      <td>2</td>\n",
       "      <td>0</td>\n",
       "    </tr>\n",
       "    <tr>\n",
       "      <td>1</td>\n",
       "      <td>1</td>\n",
       "      <td>ocf</td>\n",
       "      <td>ocfweb</td>\n",
       "      <td>./projects/ocf__ocfweb/ocfweb/auth.py</td>\n",
       "      <td>False</td>\n",
       "      <td>login require</td>\n",
       "      <td>NaN</td>\n",
       "      <td>NaN</td>\n",
       "      <td>(function,)</td>\n",
       "      <td>[]</td>\n",
       "      <td>['']</td>\n",
       "      <td>NaN</td>\n",
       "      <td>['decorator']</td>\n",
       "      <td>NaN</td>\n",
       "      <td>1</td>\n",
       "      <td>1</td>\n",
       "      <td>0</td>\n",
       "    </tr>\n",
       "    <tr>\n",
       "      <td>2</td>\n",
       "      <td>2</td>\n",
       "      <td>ocf</td>\n",
       "      <td>ocfweb</td>\n",
       "      <td>./projects/ocf__ocfweb/ocfweb/auth.py</td>\n",
       "      <td>False</td>\n",
       "      <td>decorator</td>\n",
       "      <td>NaN</td>\n",
       "      <td>NaN</td>\n",
       "      <td>(request, args)</td>\n",
       "      <td>[, ]</td>\n",
       "      <td>['', '']</td>\n",
       "      <td>NaN</td>\n",
       "      <td>['function request args kwargs', 'render reque...</td>\n",
       "      <td>NaN</td>\n",
       "      <td>2</td>\n",
       "      <td>2</td>\n",
       "      <td>0</td>\n",
       "    </tr>\n",
       "    <tr>\n",
       "      <td>3</td>\n",
       "      <td>3</td>\n",
       "      <td>ocf</td>\n",
       "      <td>ocfweb</td>\n",
       "      <td>./projects/ocf__ocfweb/ocfweb/auth.py</td>\n",
       "      <td>False</td>\n",
       "      <td>group account require</td>\n",
       "      <td>NaN</td>\n",
       "      <td>NaN</td>\n",
       "      <td>(function,)</td>\n",
       "      <td>[]</td>\n",
       "      <td>['']</td>\n",
       "      <td>NaN</td>\n",
       "      <td>['decorator']</td>\n",
       "      <td>NaN</td>\n",
       "      <td>1</td>\n",
       "      <td>1</td>\n",
       "      <td>0</td>\n",
       "    </tr>\n",
       "    <tr>\n",
       "      <td>4</td>\n",
       "      <td>4</td>\n",
       "      <td>ocf</td>\n",
       "      <td>ocfweb</td>\n",
       "      <td>./projects/ocf__ocfweb/ocfweb/auth.py</td>\n",
       "      <td>False</td>\n",
       "      <td>wrapper</td>\n",
       "      <td>NaN</td>\n",
       "      <td>NaN</td>\n",
       "      <td>(request, args)</td>\n",
       "      <td>[, ]</td>\n",
       "      <td>['', '']</td>\n",
       "      <td>NaN</td>\n",
       "      <td>['fn request args kwargs', 'http response redi...</td>\n",
       "      <td>NaN</td>\n",
       "      <td>2</td>\n",
       "      <td>2</td>\n",
       "      <td>0</td>\n",
       "    </tr>\n",
       "    <tr>\n",
       "      <td>...</td>\n",
       "      <td>...</td>\n",
       "      <td>...</td>\n",
       "      <td>...</td>\n",
       "      <td>...</td>\n",
       "      <td>...</td>\n",
       "      <td>...</td>\n",
       "      <td>...</td>\n",
       "      <td>...</td>\n",
       "      <td>...</td>\n",
       "      <td>...</td>\n",
       "      <td>...</td>\n",
       "      <td>...</td>\n",
       "      <td>...</td>\n",
       "      <td>...</td>\n",
       "      <td>...</td>\n",
       "      <td>...</td>\n",
       "      <td>...</td>\n",
       "    </tr>\n",
       "    <tr>\n",
       "      <td>10</td>\n",
       "      <td>10</td>\n",
       "      <td>a-musing-moose</td>\n",
       "      <td>almanac</td>\n",
       "      <td>./projects/a-musing-moose__almanac/almanac/reg...</td>\n",
       "      <td>True</td>\n",
       "      <td>register</td>\n",
       "      <td>NaN</td>\n",
       "      <td>NaN</td>\n",
       "      <td>(self, service)</td>\n",
       "      <td>[, Any]</td>\n",
       "      <td>['', '']</td>\n",
       "      <td>None</td>\n",
       "      <td>[]</td>\n",
       "      <td>NaN</td>\n",
       "      <td>2</td>\n",
       "      <td>2</td>\n",
       "      <td>0</td>\n",
       "    </tr>\n",
       "    <tr>\n",
       "      <td>11</td>\n",
       "      <td>11</td>\n",
       "      <td>a-musing-moose</td>\n",
       "      <td>almanac</td>\n",
       "      <td>./projects/a-musing-moose__almanac/almanac/reg...</td>\n",
       "      <td>True</td>\n",
       "      <td>get</td>\n",
       "      <td>NaN</td>\n",
       "      <td>NaN</td>\n",
       "      <td>(self, contract)</td>\n",
       "      <td>[, type]</td>\n",
       "      <td>['', '']</td>\n",
       "      <td>Any</td>\n",
       "      <td>['self. service contract name']</td>\n",
       "      <td>NaN</td>\n",
       "      <td>2</td>\n",
       "      <td>2</td>\n",
       "      <td>0</td>\n",
       "    </tr>\n",
       "    <tr>\n",
       "      <td>12</td>\n",
       "      <td>12</td>\n",
       "      <td>a-musing-moose</td>\n",
       "      <td>almanac</td>\n",
       "      <td>./projects/a-musing-moose__almanac/almanac/exc...</td>\n",
       "      <td>True</td>\n",
       "      <td>init</td>\n",
       "      <td>NaN</td>\n",
       "      <td>NaN</td>\n",
       "      <td>(self, contract name)</td>\n",
       "      <td>[, str]</td>\n",
       "      <td>['', '']</td>\n",
       "      <td>None</td>\n",
       "      <td>[]</td>\n",
       "      <td>NaN</td>\n",
       "      <td>2</td>\n",
       "      <td>2</td>\n",
       "      <td>0</td>\n",
       "    </tr>\n",
       "    <tr>\n",
       "      <td>13</td>\n",
       "      <td>13</td>\n",
       "      <td>a-musing-moose</td>\n",
       "      <td>almanac</td>\n",
       "      <td>./projects/a-musing-moose__almanac/almanac/exc...</td>\n",
       "      <td>True</td>\n",
       "      <td>init</td>\n",
       "      <td>NaN</td>\n",
       "      <td>NaN</td>\n",
       "      <td>(self, service class)</td>\n",
       "      <td>[, ]</td>\n",
       "      <td>['', '']</td>\n",
       "      <td>None</td>\n",
       "      <td>[]</td>\n",
       "      <td>NaN</td>\n",
       "      <td>2</td>\n",
       "      <td>2</td>\n",
       "      <td>0</td>\n",
       "    </tr>\n",
       "    <tr>\n",
       "      <td>14</td>\n",
       "      <td>14</td>\n",
       "      <td>a-musing-moose</td>\n",
       "      <td>almanac</td>\n",
       "      <td>./projects/a-musing-moose__almanac/almanac/exc...</td>\n",
       "      <td>True</td>\n",
       "      <td>init</td>\n",
       "      <td>NaN</td>\n",
       "      <td>NaN</td>\n",
       "      <td>(self, contract)</td>\n",
       "      <td>[, ]</td>\n",
       "      <td>['', '']</td>\n",
       "      <td>None</td>\n",
       "      <td>[]</td>\n",
       "      <td>NaN</td>\n",
       "      <td>2</td>\n",
       "      <td>2</td>\n",
       "      <td>0</td>\n",
       "    </tr>\n",
       "  </tbody>\n",
       "</table>\n",
       "<p>561039 rows × 17 columns</p>\n",
       "</div>"
      ],
      "text/plain": [
       "    Unnamed: 0          author     repo  \\\n",
       "0            0             ocf   ocfweb   \n",
       "1            1             ocf   ocfweb   \n",
       "2            2             ocf   ocfweb   \n",
       "3            3             ocf   ocfweb   \n",
       "4            4             ocf   ocfweb   \n",
       "..         ...             ...      ...   \n",
       "10          10  a-musing-moose  almanac   \n",
       "11          11  a-musing-moose  almanac   \n",
       "12          12  a-musing-moose  almanac   \n",
       "13          13  a-musing-moose  almanac   \n",
       "14          14  a-musing-moose  almanac   \n",
       "\n",
       "                                                 file  has_type  \\\n",
       "0               ./projects/ocf__ocfweb/ocfweb/auth.py     False   \n",
       "1               ./projects/ocf__ocfweb/ocfweb/auth.py     False   \n",
       "2               ./projects/ocf__ocfweb/ocfweb/auth.py     False   \n",
       "3               ./projects/ocf__ocfweb/ocfweb/auth.py     False   \n",
       "4               ./projects/ocf__ocfweb/ocfweb/auth.py     False   \n",
       "..                                                ...       ...   \n",
       "10  ./projects/a-musing-moose__almanac/almanac/reg...      True   \n",
       "11  ./projects/a-musing-moose__almanac/almanac/reg...      True   \n",
       "12  ./projects/a-musing-moose__almanac/almanac/exc...      True   \n",
       "13  ./projects/a-musing-moose__almanac/almanac/exc...      True   \n",
       "14  ./projects/a-musing-moose__almanac/almanac/exc...      True   \n",
       "\n",
       "                     name docstring func_descr              arg_names  \\\n",
       "0               decorator       NaN        NaN        (request, args)   \n",
       "1           login require       NaN        NaN            (function,)   \n",
       "2               decorator       NaN        NaN        (request, args)   \n",
       "3   group account require       NaN        NaN            (function,)   \n",
       "4                 wrapper       NaN        NaN        (request, args)   \n",
       "..                    ...       ...        ...                    ...   \n",
       "10               register       NaN        NaN        (self, service)   \n",
       "11                    get       NaN        NaN       (self, contract)   \n",
       "12                   init       NaN        NaN  (self, contract name)   \n",
       "13                   init       NaN        NaN  (self, service class)   \n",
       "14                   init       NaN        NaN       (self, contract)   \n",
       "\n",
       "   arg_types arg_descrs return_type  \\\n",
       "0       [, ]   ['', '']         NaN   \n",
       "1         []       ['']         NaN   \n",
       "2       [, ]   ['', '']         NaN   \n",
       "3         []       ['']         NaN   \n",
       "4       [, ]   ['', '']         NaN   \n",
       "..       ...        ...         ...   \n",
       "10   [, Any]   ['', '']        None   \n",
       "11  [, type]   ['', '']         Any   \n",
       "12   [, str]   ['', '']        None   \n",
       "13      [, ]   ['', '']        None   \n",
       "14      [, ]   ['', '']        None   \n",
       "\n",
       "                                          return_expr return_descr  \\\n",
       "0   ['function request args kwargs', 'http respons...          NaN   \n",
       "1                                       ['decorator']          NaN   \n",
       "2   ['function request args kwargs', 'render reque...          NaN   \n",
       "3                                       ['decorator']          NaN   \n",
       "4   ['fn request args kwargs', 'http response redi...          NaN   \n",
       "..                                                ...          ...   \n",
       "10                                                 []          NaN   \n",
       "11                    ['self. service contract name']          NaN   \n",
       "12                                                 []          NaN   \n",
       "13                                                 []          NaN   \n",
       "14                                                 []          NaN   \n",
       "\n",
       "    arg_names_len  arg_types_len  docstring_length  \n",
       "0               2              2                 0  \n",
       "1               1              1                 0  \n",
       "2               2              2                 0  \n",
       "3               1              1                 0  \n",
       "4               2              2                 0  \n",
       "..            ...            ...               ...  \n",
       "10              2              2                 0  \n",
       "11              2              2                 0  \n",
       "12              2              2                 0  \n",
       "13              2              2                 0  \n",
       "14              2              2                 0  \n",
       "\n",
       "[561039 rows x 17 columns]"
      ]
     },
     "execution_count": 19,
     "metadata": {},
     "output_type": "execute_result"
    }
   ],
   "source": [
    "df"
   ]
  },
  {
   "cell_type": "markdown",
   "metadata": {},
   "source": [
    "## Analysis of docstring"
   ]
  },
  {
   "cell_type": "markdown",
   "metadata": {},
   "source": [
    "#### Questions:\n",
    "    - What is the distribution fo the docstring length"
   ]
  },
  {
   "cell_type": "code",
   "execution_count": 4,
   "metadata": {},
   "outputs": [
    {
     "data": {
      "text/plain": [
       "count    561039.000000\n",
       "mean         29.150462\n",
       "std         135.035843\n",
       "min           0.000000\n",
       "25%           0.000000\n",
       "50%           0.000000\n",
       "75%          26.000000\n",
       "max       44453.000000\n",
       "Name: docstring_length, dtype: float64"
      ]
     },
     "execution_count": 4,
     "metadata": {},
     "output_type": "execute_result"
    }
   ],
   "source": [
    "df['docstring_length'] = df['docstring'].fillna('').apply(len)\n",
    "df['docstring_length'].describe()"
   ]
  },
  {
   "cell_type": "code",
   "execution_count": 26,
   "metadata": {},
   "outputs": [],
   "source": [
    "from scipy import stats\n",
    "outliars = np.abs(stats.zscore(df['docstring_length'])) > 3 # zscore > 3\n"
   ]
  },
  {
   "cell_type": "code",
   "execution_count": 41,
   "metadata": {},
   "outputs": [
    {
     "data": {
      "image/png": "[encoded data removed]",
      "text/plain": [
       "<Figure size 1080x648 with 2 Axes>"
      ]
     },
     "metadata": {
      "needs_background": "light"
     },
     "output_type": "display_data"
    }
   ],
   "source": [
    "dd = df['docstring_length'][(df['docstring_length'] > 0) & np.invert(outliars)]\n",
    "bins = 400\n",
    "\n",
    "fig = plt.figure(figsize=(15, 9))\n",
    "fig.suptitle(\"Distribution of docstring lengths\", fontsize=16)\n",
    "\n",
    "plt.subplot(2, 1, 1)\n",
    "plt.title(\"Distribution only for range 0-200\")\n",
    "plt.hist(dd, bins, density=True, facecolor='g', alpha=0.75)\n",
    "plt.xlim([0, 200])\n",
    "\n",
    "plt.subplot(2, 1, 2)\n",
    "plt.title(\"Distribution for full range\")\n",
    "plt.hist(dd, bins, density=True, facecolor='g', alpha=0.75)\n",
    "plt.xlim([0, 1000])\n",
    "\n",
    "fig.tight_layout()\n",
    "fig.subplots_adjust(top=0.88)\n",
    "plt.show()"
   ]
  },
  {
   "cell_type": "markdown",
   "metadata": {},
   "source": [
    "## Analysis of arg-{types, names}\n",
    "\n",
    "#### Questions: \n",
    "    - How many functions have types? What is the ration of the total\n",
    "    - What is the distribution of the function arguments?\n",
    "    - What are the most common arg types?\n"
   ]
  },
  {
   "cell_type": "code",
   "execution_count": 6,
   "metadata": {},
   "outputs": [
    {
     "name": "stdout",
     "output_type": "stream",
     "text": [
      "Function with type 117763/561039=0.210\n"
     ]
    }
   ],
   "source": [
    "with_type = df['has_type']\n",
    "print(f\"Function with type {with_type.sum()}/{len(df)}={with_type.sum()/len(df):0.3f}\")"
   ]
  },
  {
   "cell_type": "code",
   "execution_count": 7,
   "metadata": {},
   "outputs": [
    {
     "data": {
      "image/png": "[encoded data removed]",
      "text/plain": [
       "<Figure size 432x288 with 1 Axes>"
      ]
     },
     "metadata": {
      "needs_background": "light"
     },
     "output_type": "display_data"
    }
   ],
   "source": [
    "sns.distplot(df['arg_names_len'])\n",
    "plt.title(f\"Distribution of the argument names length \\u03BC={df['arg_names_len'].mean():0.2f}\" \\\n",
    "          f\" σ={df['arg_names_len'].std():0.2f}\")\n",
    "plt.show()"
   ]
  },
  {
   "cell_type": "code",
   "execution_count": 8,
   "metadata": {},
   "outputs": [
    {
     "data": {
      "image/png": "[encoded data removed]",
      "text/plain": [
       "<Figure size 432x288 with 1 Axes>"
      ]
     },
     "metadata": {
      "needs_background": "light"
     },
     "output_type": "display_data"
    }
   ],
   "source": [
    "sns.distplot(df['arg_types_len'])\n",
    "plt.title(f\"Distribution of the argument type length \\u03BC={df['arg_types_len'].mean():0.2f}\" \\\n",
    "          f\" σ={df['arg_types_len'].std():0.2f}\")\n",
    "plt.show()"
   ]
  },
  {
   "cell_type": "code",
   "execution_count": 9,
   "metadata": {},
   "outputs": [
    {
     "name": "stdout",
     "output_type": "stream",
     "text": [
      "A total of 38521 unique names were gathered.\n",
      "Most common argument names are:\n",
      "-- self     \t\t\t378000\n",
      "-- ha     \t\t\t15491\n",
      "-- name     \t\t\t13007\n",
      "-- args     \t\t\t12635\n",
      "-- node     \t\t\t9264\n",
      "-- config     \t\t\t8938\n",
      "-- cl     \t\t\t8730\n",
      "-- value     \t\t\t8590\n",
      "-- request     \t\t\t8091\n",
      "-- data     \t\t\t7179\n",
      "-- text     \t\t\t6858\n",
      "-- x     \t\t\t5143\n",
      "-- path     \t\t\t4777\n",
      "-- filename     \t\t\t4343\n",
      "-- discovery info     \t\t\t4280\n",
      "-- other     \t\t\t3943\n",
      "-- key     \t\t\t3872\n",
      "-- context     \t\t\t3384\n",
      "-- result     \t\t\t3374\n",
      "-- event     \t\t\t3211\n"
     ]
    }
   ],
   "source": [
    "all_types = np.hstack(df['arg_names'].values)\n",
    "unique, counts = np.unique(all_types, return_counts=True)\n",
    "print(f\"A total of {len(unique)} unique names were gathered.\")\n",
    "\n",
    "print(f\"Most common argument names are:\")\n",
    "for i in np.argsort(counts)[-20:][::-1]:\n",
    "    print(f\"-- {unique[i]}     \\t\\t\\t{counts[i]}\")"
   ]
  },
  {
   "cell_type": "code",
   "execution_count": 10,
   "metadata": {},
   "outputs": [
    {
     "name": "stdout",
     "output_type": "stream",
     "text": [
      "A total of 8778 unique types were gathered.\n",
      "Most common argument types are:\n",
      "--       \t\t\t861825\n",
      "-- str      \t\t\t29399\n",
      "-- int      \t\t\t14034\n",
      "-- bool      \t\t\t7445\n",
      "-- Any      \t\t\t4099\n",
      "-- Dict[str, Any]      \t\t\t3266\n",
      "-- float      \t\t\t2704\n",
      "-- Optional[str]      \t\t\t2445\n",
      "-- UserProfile      \t\t\t2440\n",
      "-- HttpRequest      \t\t\t1976\n",
      "-- List[str]      \t\t\t1838\n",
      "-- bytes      \t\t\t1456\n",
      "-- torch.Tensor      \t\t\t1307\n",
      "-- Text      \t\t\t1307\n",
      "-- dict      \t\t\t1262\n",
      "-- Path      \t\t\t1205\n",
      "-- Optional[int]      \t\t\t951\n",
      "-- Realm      \t\t\t792\n",
      "-- Dict      \t\t\t704\n",
      "-- np.ndarray      \t\t\t685\n"
     ]
    }
   ],
   "source": [
    "all_types = np.hstack(df['arg_types'].values)\n",
    "unique, counts = np.unique(all_types, return_counts=True)\n",
    "print(f\"A total of {len(unique)} unique types were gathered.\")\n",
    "\n",
    "print(f\"Most common argument types are:\")\n",
    "for i in np.argsort(counts)[-20:][::-1]:\n",
    "    print(f\"-- {unique[i]}      \\t\\t\\t{counts[i]}\")"
   ]
  },
  {
   "cell_type": "markdown",
   "metadata": {},
   "source": [
    "# Checks"
   ]
  },
  {
   "cell_type": "code",
   "execution_count": 11,
   "metadata": {},
   "outputs": [
    {
     "data": {
      "text/plain": [
       "True"
      ]
     },
     "execution_count": 11,
     "metadata": {},
     "output_type": "execute_result"
    }
   ],
   "source": [
    "# Arguments should always be equal to type len\n",
    "(df['arg_types_len'] == df['arg_names_len']).sum() == len(df)"
   ]
  },
  {
   "cell_type": "code",
   "execution_count": 12,
   "metadata": {},
   "outputs": [
    {
     "data": {
      "text/html": [
       "<div>\n",
       "<style scoped>\n",
       "    .dataframe tbody tr th:only-of-type {\n",
       "        vertical-align: middle;\n",
       "    }\n",
       "\n",
       "    .dataframe tbody tr th {\n",
       "        vertical-align: top;\n",
       "    }\n",
       "\n",
       "    .dataframe thead th {\n",
       "        text-align: right;\n",
       "    }\n",
       "</style>\n",
       "<table border=\"1\" class=\"dataframe\">\n",
       "  <thead>\n",
       "    <tr style=\"text-align: right;\">\n",
       "      <th></th>\n",
       "      <th>Unnamed: 0</th>\n",
       "      <th>author</th>\n",
       "      <th>repo</th>\n",
       "      <th>file</th>\n",
       "      <th>has_type</th>\n",
       "      <th>name</th>\n",
       "      <th>docstring</th>\n",
       "      <th>func_descr</th>\n",
       "      <th>arg_names</th>\n",
       "      <th>arg_types</th>\n",
       "      <th>arg_descrs</th>\n",
       "      <th>return_type</th>\n",
       "      <th>return_expr</th>\n",
       "      <th>return_descr</th>\n",
       "      <th>arg_names_len</th>\n",
       "      <th>arg_types_len</th>\n",
       "      <th>docstring_length</th>\n",
       "    </tr>\n",
       "  </thead>\n",
       "  <tbody>\n",
       "  </tbody>\n",
       "</table>\n",
       "</div>"
      ],
      "text/plain": [
       "Empty DataFrame\n",
       "Columns: [Unnamed: 0, author, repo, file, has_type, name, docstring, func_descr, arg_names, arg_types, arg_descrs, return_type, return_expr, return_descr, arg_names_len, arg_types_len, docstring_length]\n",
       "Index: []"
      ]
     },
     "execution_count": 12,
     "metadata": {},
     "output_type": "execute_result"
    }
   ],
   "source": [
    "# If not which are the rows in question\n",
    "df[df['arg_types_len'] != df['arg_names_len']]"
   ]
  },
  {
   "cell_type": "code",
   "execution_count": null,
   "metadata": {},
   "outputs": [],
   "source": []
  },
  {
   "cell_type": "code",
   "execution_count": null,
   "metadata": {},
   "outputs": [],
   "source": []
  }
 ],
 "metadata": {
  "kernelspec": {
   "display_name": "Python 3",
   "language": "python",
   "name": "python3"
  },
  "language_info": {
   "codemirror_mode": {
    "name": "ipython",
    "version": 3
   },
   "file_extension": ".py",
   "mimetype": "text/x-python",
   "name": "python",
   "nbconvert_exporter": "python",
   "pygments_lexer": "ipython3",
   "version": "3.7.3"
  },
  "toc": {
   "base_numbering": 1,
   "nav_menu": {},
   "number_sections": true,
   "sideBar": true,
   "skip_h1_title": false,
   "title_cell": "Table of Contents",
   "title_sidebar": "Contents",
   "toc_cell": false,
   "toc_position": {},
   "toc_section_display": true,
   "toc_window_display": false
  }
 },
 "nbformat": 4,
 "nbformat_minor": 2
}
